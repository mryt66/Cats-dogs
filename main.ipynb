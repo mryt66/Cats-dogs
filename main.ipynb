import numpy as np
import pandas as pd
import soundfile as sf
import csv
from sklearn.model_selection import train_test_split
from scipy.io import wavfile
from csv_creator import dog_cat


for iterator in range(10,26):
    thing=dog_cat('cat',iterator,'Data_cats.csv')
    thing.read_data()
    thing.create_data()
    
    thing=dog_cat('dog_barking',iterator,'Data_dogs.csv')
    thing.read_data()
    thing.create_data()

    
#odczytywanie z pliku

# data_cats=[]
# with open(csv_cats, 'r', newline='') as file:
#     reader=csv.reader(file, quoting=csv.QUOTE_NONE)
#     for i in reader:
#         tmp=[]
#         for j in i:
#             if j[0]=='[':
#                 j=j.strip('[')
#             elif j[len(j)-1]==']':
#                 j=j.strip(']')
#             tmp.append(j)
#         data_cats.append(tmp)
# for i in data_cats:
#     print(i)


#co zrobić !!!
#dorobić zabezpieczenie, żeby nie było dwóch tych samych linijek w .csv     
    
    
