{
 "cells": [
  {
   "cell_type": "code",
   "execution_count": 1,
   "id": "3454746b",
   "metadata": {},
   "outputs": [
    {
     "name": "stdout",
     "output_type": "stream",
     "text": [
      "Skuteczność klasyfikatora wynosi około 96.0 %\n"
     ]
    }
   ],
   "source": [
    "#A file which should be named main.ipynb but github can't read this extension.\n",
    "\n",
    "import numpy as np\n",
    "import pandas as pd\n",
    "import random\n",
    "import csv\n",
    "import os\n",
    "from statistics import mean\n",
    "from csv_creator import dog_cat\n",
    "from load_data import load_data\n",
    "from classifier import KNN\n",
    "\n",
    "\n",
    "# Tworzenie danych i zapis do .csv\n",
    "if os.path.getsize('Data_cats.csv')==0 and os.path.getsize('Data_dogs.csv')==0:\n",
    "    for i in range(1,26):\n",
    "        thing=dog_cat('cat', i, 'Data_cats.csv')\n",
    "        thing.read_wave()\n",
    "        thing.create_data()\n",
    "\n",
    "        thing=dog_cat('dog_barking', i, 'Data_dogs.csv')\n",
    "        thing.read_wave()\n",
    "        thing.create_data()\n",
    "\n",
    "# Odczyt z .csv pliku, charakteryzacja danych dla listy\n",
    "data=[]\n",
    "\n",
    "def load_csv(file, type):\n",
    "    with open(file, newline='') as file:\n",
    "        reader=csv.reader(file, quoting=csv.QUOTE_NONE)\n",
    "        for i in reader:\n",
    "            tmp=[]\n",
    "            for j in i:\n",
    "                if j[0]=='[':\n",
    "                    j=j.strip('[')\n",
    "                elif j[len(j)-1]==']':\n",
    "                    j=j.strip(']')\n",
    "                tmp.append(float(j))\n",
    "            dl=1\n",
    "            num=0\n",
    "            for j in tmp:\n",
    "                dl=dl+1\n",
    "                num+=float(j)\n",
    "            if dl>5:\n",
    "                data.append([mean(tmp), min(tmp), max(tmp), dl-1, type])\n",
    "    return data\n",
    "\n",
    "load_csv('Data_cats.csv','cats')\n",
    "load_csv('Data_dogs.csv','dogs')\n",
    "    \n",
    "x=load_data(data)\n",
    "x.shuffle()\n",
    "train,val=x.split()\n",
    "\n",
    "#KNN dla poszczególnej liczby danych\n",
    "k=5\n",
    "y=KNN(train,val,k)\n",
    "y.classify()\n",
    "\n"
   ]
  },
  {
   "cell_type": "code",
   "execution_count": null,
   "id": "ba04112b",
   "metadata": {},
   "outputs": [],
   "source": []
  },
  {
   "cell_type": "code",
   "execution_count": null,
   "id": "e41090f3",
   "metadata": {},
   "outputs": [],
   "source": []
  }
 ],
 "metadata": {
  "kernelspec": {
   "display_name": "Python 3 (ipykernel)",
   "language": "python",
   "name": "python3"
  },
  "language_info": {
   "codemirror_mode": {
    "name": "ipython",
    "version": 3
   },
   "file_extension": ".py",
   "mimetype": "text/x-python",
   "name": "python",
   "nbconvert_exporter": "python",
   "pygments_lexer": "ipython3",
   "version": "3.10.9"
  }
 },
 "nbformat": 4,
 "nbformat_minor": 5
}
